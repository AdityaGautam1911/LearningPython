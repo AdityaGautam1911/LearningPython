{
 "cells": [
  {
   "cell_type": "code",
   "execution_count": 1,
   "id": "6b1a2f4e",
   "metadata": {},
   "outputs": [],
   "source": [
    "import numpy as np"
   ]
  },
  {
   "cell_type": "code",
   "execution_count": 2,
   "id": "953db655",
   "metadata": {},
   "outputs": [],
   "source": [
    "lst=[1,2,3]"
   ]
  },
  {
   "cell_type": "code",
   "execution_count": 4,
   "id": "61e7296c",
   "metadata": {},
   "outputs": [
    {
     "name": "stdout",
     "output_type": "stream",
     "text": [
      "[1 2 3]\n",
      "<class 'numpy.ndarray'>\n"
     ]
    }
   ],
   "source": [
    "np_array=np.array(lst)\n",
    "print(np_array)\n",
    "print(type(np_array))"
   ]
  },
  {
   "cell_type": "code",
   "execution_count": 20,
   "id": "fd206b45",
   "metadata": {},
   "outputs": [
    {
     "name": "stdout",
     "output_type": "stream",
     "text": [
      "[[1 2 3 9]\n",
      " [4 5 6 9]\n",
      " [7 8 0 9]]\n",
      "(3, 4)\n",
      "[[1 2 3]\n",
      " [9 4 5]\n",
      " [6 9 7]\n",
      " [8 0 9]]\n",
      "(4, 3)\n"
     ]
    }
   ],
   "source": [
    "lst1=[[1,2,3,9],[4,5,6,9],[7,8,0,9]]\n",
    "lst1_array=np.array(lst1)\n",
    "print(lst1_array)\n",
    "type(lst1_array)\n",
    "\n",
    "#to check the shape(dimensions) of thr array\n",
    "print(lst1_array.shape)\n",
    "\n",
    "#to change the dimensions of lst1_array\n",
    "lst1_array=np.reshape(lst1_array,(4,3))\n",
    "print(lst1_array)\n",
    "print(lst1_array.shape)\n"
   ]
  },
  {
   "cell_type": "code",
   "execution_count": 24,
   "id": "8773c3da",
   "metadata": {},
   "outputs": [
    {
     "name": "stdout",
     "output_type": "stream",
     "text": [
      "[[0 0 0 0 0]\n",
      " [0 0 0 0 0]\n",
      " [0 0 0 0 0]\n",
      " [0 0 0 0 0]\n",
      " [0 0 0 0 0]]\n",
      "[[1. 1. 1. 1. 1.]\n",
      " [1. 1. 1. 1. 1.]\n",
      " [1. 1. 1. 1. 1.]\n",
      " [1. 1. 1. 1. 1.]\n",
      " [1. 1. 1. 1. 1.]]\n"
     ]
    }
   ],
   "source": [
    "#creating numpy array\n",
    "\n",
    "#creating with all elements '0'\n",
    "print(np.zeros((5,5),dtype=int))\n",
    "\n",
    "#creating with all elements '1'\n",
    "print(np.ones((5,5),dtype=float))"
   ]
  },
  {
   "cell_type": "code",
   "execution_count": 62,
   "id": "ca8cac95",
   "metadata": {},
   "outputs": [
    {
     "name": "stdout",
     "output_type": "stream",
     "text": [
      "41\n",
      "[ 2.          3.33333333  4.66666667  6.          7.33333333  8.66666667\n",
      " 10.        ]\n",
      "array+2= [ 4.          5.33333333  6.66666667  8.          9.33333333 10.66666667\n",
      " 12.        ]\n",
      "array-2= [0.         1.33333333 2.66666667 4.         5.33333333 6.66666667\n",
      " 8.        ]\n",
      "array*2= [ 4.          6.66666667  9.33333333 12.         14.66666667 17.33333333\n",
      " 20.        ]\n"
     ]
    }
   ],
   "source": [
    "#generate random numbers\n",
    "\n",
    "rand=np.random.randint(10,200)#print random numbers between 10 to 200\n",
    "print(rand)\n",
    "\n",
    "np.linspace(2,10,5)#Return evenly spaced numbers over a specified interval\n",
    "                   #prints evenly spaced 5 numbers between 2 to 10\n",
    "\n",
    "np.mean(np.linspace(2,10,5))#tells the mean\n",
    "\n",
    "np.sqrt(np.linspace(2,10,5))#tells square root of all 5 numbers\n",
    "\n",
    "\n",
    "#operations to all numbers in the array\n",
    "array=np.linspace(2,10,7)\n",
    "print(array)\n",
    "print(\"array+2=\",array+2)\n",
    "print(\"array-2=\",array-2)\n",
    "print(\"array*2=\",array*2)"
   ]
  }
 ],
 "metadata": {
  "kernelspec": {
   "display_name": "Python 3",
   "language": "python",
   "name": "python3"
  },
  "language_info": {
   "codemirror_mode": {
    "name": "ipython",
    "version": 3
   },
   "file_extension": ".py",
   "mimetype": "text/x-python",
   "name": "python",
   "nbconvert_exporter": "python",
   "pygments_lexer": "ipython3",
   "version": "3.8.8"
  }
 },
 "nbformat": 4,
 "nbformat_minor": 5
}
