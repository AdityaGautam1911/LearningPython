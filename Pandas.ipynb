{
 "cells": [
  {
   "cell_type": "code",
   "execution_count": 7,
   "id": "c3d3c6df",
   "metadata": {},
   "outputs": [],
   "source": [
    "#pandas is a software library written for the Python programming language for data manipulation and analysis\n",
    "\n",
    "import pandas as pd\n",
    "#files in--->c/users/abc"
   ]
  },
  {
   "cell_type": "code",
   "execution_count": 16,
   "id": "45c1f996",
   "metadata": {},
   "outputs": [],
   "source": [
    "import csv\n",
    "\n",
    "header = ['name', 'area', 'country_code2', 'country_code3']\n",
    "data = [\n",
    "    ['Albania', 28748, 'AL', 'ALB'],\n",
    "    ['Algeria', 2381741, 'DZ', 'DZA'],\n",
    "    ['American Samoa', 199, 'AS', 'ASM'],\n",
    "    ['Andorra', 468, 'AD', 'AND'],\n",
    "    ['Angola', 1246700, 'AO', 'AGO']\n",
    "]\n",
    "\n",
    "with open('countries.csv', 'w', encoding='UTF8', newline='') as f:\n",
    "    writer = csv.writer(f)\n",
    "\n",
    "    # write the header\n",
    "    writer.writerow(header)\n",
    "\n",
    "    # write multiple rows\n",
    "    writer.writerows(data)\n"
   ]
  },
  {
   "cell_type": "code",
   "execution_count": 21,
   "id": "4bb2d1c3",
   "metadata": {},
   "outputs": [],
   "source": [
    "df=pd.read_csv('countries.csv')#df--->data frame"
   ]
  },
  {
   "cell_type": "code",
   "execution_count": 22,
   "id": "491f27bf",
   "metadata": {},
   "outputs": [
    {
     "data": {
      "text/html": [
       "<div>\n",
       "<style scoped>\n",
       "    .dataframe tbody tr th:only-of-type {\n",
       "        vertical-align: middle;\n",
       "    }\n",
       "\n",
       "    .dataframe tbody tr th {\n",
       "        vertical-align: top;\n",
       "    }\n",
       "\n",
       "    .dataframe thead th {\n",
       "        text-align: right;\n",
       "    }\n",
       "</style>\n",
       "<table border=\"1\" class=\"dataframe\">\n",
       "  <thead>\n",
       "    <tr style=\"text-align: right;\">\n",
       "      <th></th>\n",
       "      <th>name</th>\n",
       "      <th>area</th>\n",
       "      <th>country_code2</th>\n",
       "      <th>country_code3</th>\n",
       "    </tr>\n",
       "  </thead>\n",
       "  <tbody>\n",
       "    <tr>\n",
       "      <th>0</th>\n",
       "      <td>Albania</td>\n",
       "      <td>28748</td>\n",
       "      <td>AL</td>\n",
       "      <td>ALB</td>\n",
       "    </tr>\n",
       "    <tr>\n",
       "      <th>1</th>\n",
       "      <td>Algeria</td>\n",
       "      <td>2381741</td>\n",
       "      <td>DZ</td>\n",
       "      <td>DZA</td>\n",
       "    </tr>\n",
       "    <tr>\n",
       "      <th>2</th>\n",
       "      <td>American Samoa</td>\n",
       "      <td>199</td>\n",
       "      <td>AS</td>\n",
       "      <td>ASM</td>\n",
       "    </tr>\n",
       "    <tr>\n",
       "      <th>3</th>\n",
       "      <td>Andorra</td>\n",
       "      <td>468</td>\n",
       "      <td>AD</td>\n",
       "      <td>AND</td>\n",
       "    </tr>\n",
       "    <tr>\n",
       "      <th>4</th>\n",
       "      <td>Angola</td>\n",
       "      <td>1246700</td>\n",
       "      <td>AO</td>\n",
       "      <td>AGO</td>\n",
       "    </tr>\n",
       "  </tbody>\n",
       "</table>\n",
       "</div>"
      ],
      "text/plain": [
       "             name     area country_code2 country_code3\n",
       "0         Albania    28748            AL           ALB\n",
       "1         Algeria  2381741            DZ           DZA\n",
       "2  American Samoa      199            AS           ASM\n",
       "3         Andorra      468            AD           AND\n",
       "4          Angola  1246700            AO           AGO"
      ]
     },
     "execution_count": 22,
     "metadata": {},
     "output_type": "execute_result"
    }
   ],
   "source": [
    "df.head()"
   ]
  },
  {
   "cell_type": "code",
   "execution_count": 23,
   "id": "ade4d271",
   "metadata": {},
   "outputs": [
    {
     "data": {
      "text/html": [
       "<div>\n",
       "<style scoped>\n",
       "    .dataframe tbody tr th:only-of-type {\n",
       "        vertical-align: middle;\n",
       "    }\n",
       "\n",
       "    .dataframe tbody tr th {\n",
       "        vertical-align: top;\n",
       "    }\n",
       "\n",
       "    .dataframe thead th {\n",
       "        text-align: right;\n",
       "    }\n",
       "</style>\n",
       "<table border=\"1\" class=\"dataframe\">\n",
       "  <thead>\n",
       "    <tr style=\"text-align: right;\">\n",
       "      <th></th>\n",
       "      <th>name</th>\n",
       "      <th>area</th>\n",
       "      <th>country_code2</th>\n",
       "      <th>country_code3</th>\n",
       "    </tr>\n",
       "  </thead>\n",
       "  <tbody>\n",
       "    <tr>\n",
       "      <th>0</th>\n",
       "      <td>Albania</td>\n",
       "      <td>28748</td>\n",
       "      <td>AL</td>\n",
       "      <td>ALB</td>\n",
       "    </tr>\n",
       "    <tr>\n",
       "      <th>1</th>\n",
       "      <td>Algeria</td>\n",
       "      <td>2381741</td>\n",
       "      <td>DZ</td>\n",
       "      <td>DZA</td>\n",
       "    </tr>\n",
       "  </tbody>\n",
       "</table>\n",
       "</div>"
      ],
      "text/plain": [
       "      name     area country_code2 country_code3\n",
       "0  Albania    28748            AL           ALB\n",
       "1  Algeria  2381741            DZ           DZA"
      ]
     },
     "execution_count": 23,
     "metadata": {},
     "output_type": "execute_result"
    }
   ],
   "source": [
    "df.head(2)#prints 2 lines of csv"
   ]
  },
  {
   "cell_type": "code",
   "execution_count": 25,
   "id": "a3ecb574",
   "metadata": {},
   "outputs": [
    {
     "data": {
      "text/plain": [
       "0           Albania\n",
       "1           Algeria\n",
       "2    American Samoa\n",
       "3           Andorra\n",
       "4            Angola\n",
       "Name: name, dtype: object"
      ]
     },
     "execution_count": 25,
     "metadata": {},
     "output_type": "execute_result"
    }
   ],
   "source": [
    "df['name'] #prints name of all countries"
   ]
  },
  {
   "cell_type": "code",
   "execution_count": 29,
   "id": "d99922a6",
   "metadata": {},
   "outputs": [
    {
     "name": "stdout",
     "output_type": "stream",
     "text": [
      "['Albania' 'Algeria' 'American Samoa' 'Andorra' 'Angola']\n"
     ]
    }
   ],
   "source": [
    "#To convert all names into a list format\n",
    "\n",
    "countries=df['name'].values\n",
    "print(countries)"
   ]
  },
  {
   "cell_type": "code",
   "execution_count": 27,
   "id": "24da5705",
   "metadata": {},
   "outputs": [
    {
     "data": {
      "text/plain": [
       "0      28748\n",
       "1    2381741\n",
       "2        199\n",
       "3        468\n",
       "4    1246700\n",
       "Name: area, dtype: int64"
      ]
     },
     "execution_count": 27,
     "metadata": {},
     "output_type": "execute_result"
    }
   ],
   "source": [
    "df['area'] #prints area of all countries"
   ]
  },
  {
   "cell_type": "code",
   "execution_count": 30,
   "id": "73bb252a",
   "metadata": {},
   "outputs": [
    {
     "name": "stdout",
     "output_type": "stream",
     "text": [
      "[  28748 2381741     199     468 1246700]\n"
     ]
    }
   ],
   "source": [
    "#To convert all country areas into a list format\n",
    "\n",
    "area=df['area'].values\n",
    "print(area)"
   ]
  },
  {
   "cell_type": "code",
   "execution_count": 44,
   "id": "5b7f2be2",
   "metadata": {},
   "outputs": [
    {
     "data": {
      "text/plain": [
       "array([['Albania', 28748, 'AL', 'ALB'],\n",
       "       ['Algeria', 2381741, 'DZ', 'DZA'],\n",
       "       ['American Samoa', 199, 'AS', 'ASM'],\n",
       "       ['Andorra', 468, 'AD', 'AND'],\n",
       "       ['Angola', 1246700, 'AO', 'AGO']], dtype=object)"
      ]
     },
     "execution_count": 44,
     "metadata": {},
     "output_type": "execute_result"
    }
   ],
   "source": [
    "#to convert the whole data into an array\n",
    "data=df.values#2-D Array\n",
    "data"
   ]
  },
  {
   "cell_type": "code",
   "execution_count": 45,
   "id": "8ee7f7f4",
   "metadata": {},
   "outputs": [
    {
     "name": "stdout",
     "output_type": "stream",
     "text": [
      "[3, 5, 7, 7, 6]\n"
     ]
    }
   ],
   "source": [
    "#we do the following for using index in 1-D List\n",
    "list=[1,2,3,5,7,7,6,5]\n",
    "print(list[2:7])"
   ]
  },
  {
   "cell_type": "code",
   "execution_count": 52,
   "id": "74ec29f7",
   "metadata": {},
   "outputs": [
    {
     "name": "stdout",
     "output_type": "stream",
     "text": [
      "[['Albania' 28748 'AL' 'ALB']\n",
      " ['Algeria' 2381741 'DZ' 'DZA']\n",
      " ['American Samoa' 199 'AS' 'ASM']\n",
      " ['Andorra' 468 'AD' 'AND']\n",
      " ['Angola' 1246700 'AO' 'AGO']]\n",
      "\n",
      "\n",
      "\n",
      "\n",
      "[['AL' 'ALB']\n",
      " ['DZ' 'DZA']\n",
      " ['AS' 'ASM']\n",
      " ['AD' 'AND']\n",
      " ['AO' 'AGO']]\n",
      "\n",
      "[['AS']]\n"
     ]
    }
   ],
   "source": [
    "#we do the following for using index in 2-D List\n",
    "print(data[:,:])#to print the whole 2-D list\n",
    "print(\"\")\n",
    "data[:1,:]#print all data of the 1st row\n",
    "print(\"\")\n",
    "data[:2,:]#print all data of first 2 rows\n",
    "print(\"\")\n",
    "data[2:,:]#print all rows from 2nd index and onwards\n",
    "print(\"\")\n",
    "print(data[:,2:])#print all data of last 2 columns\n",
    "print(\"\")\n",
    "print(data[2:3,2:3])#print 3rd row:3rd column"
   ]
  },
  {
   "cell_type": "code",
   "execution_count": null,
   "id": "a6c87f63",
   "metadata": {},
   "outputs": [],
   "source": []
  }
 ],
 "metadata": {
  "kernelspec": {
   "display_name": "Python 3",
   "language": "python",
   "name": "python3"
  },
  "language_info": {
   "codemirror_mode": {
    "name": "ipython",
    "version": 3
   },
   "file_extension": ".py",
   "mimetype": "text/x-python",
   "name": "python",
   "nbconvert_exporter": "python",
   "pygments_lexer": "ipython3",
   "version": "3.8.8"
  }
 },
 "nbformat": 4,
 "nbformat_minor": 5
}
