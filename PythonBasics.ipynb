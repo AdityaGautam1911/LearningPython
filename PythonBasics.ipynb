{
 "cells": [
  {
   "cell_type": "markdown",
   "id": "534bcf61",
   "metadata": {},
   "source": [
    "# Heading(using markdown-single #)\n"
   ]
  },
  {
   "cell_type": "markdown",
   "id": "cfa56f77",
   "metadata": {},
   "source": [
    "## Heading(using markdown-double #)"
   ]
  },
  {
   "cell_type": "markdown",
   "id": "549bc957",
   "metadata": {},
   "source": [
    "### Heading(using markdown-triple #)\n"
   ]
  },
  {
   "cell_type": "markdown",
   "id": "22f67a86",
   "metadata": {},
   "source": [
    "\n",
    "# DATA STRUCTURES"
   ]
  },
  {
   "cell_type": "markdown",
   "id": "0c09486f",
   "metadata": {},
   "source": [
    "# STRINGS"
   ]
  },
  {
   "cell_type": "code",
   "execution_count": 10,
   "id": "54b11336",
   "metadata": {},
   "outputs": [
    {
     "name": "stdout",
     "output_type": "stream",
     "text": [
      "hello\n"
     ]
    }
   ],
   "source": [
    "a=\"hello\"\n",
    "print(a)"
   ]
  },
  {
   "cell_type": "code",
   "execution_count": 11,
   "id": "31e25190",
   "metadata": {},
   "outputs": [
    {
     "data": {
      "text/plain": [
       "str"
      ]
     },
     "execution_count": 11,
     "metadata": {},
     "output_type": "execute_result"
    }
   ],
   "source": [
    "#to check the type of datatype\n",
    "type(\"123\")"
   ]
  },
  {
   "cell_type": "code",
   "execution_count": 15,
   "id": "3ee9d498",
   "metadata": {},
   "outputs": [
    {
     "name": "stdout",
     "output_type": "stream",
     "text": [
      "Hello world\n"
     ]
    }
   ],
   "source": [
    "#concatenate\n",
    "firstName=\"Hello\"\n",
    "lastName=\"world\"\n",
    "fullName=a+\" \"+b\n",
    "print(fullName)"
   ]
  },
  {
   "cell_type": "code",
   "execution_count": 28,
   "id": "ba85d34d",
   "metadata": {},
   "outputs": [
    {
     "name": "stdout",
     "output_type": "stream",
     "text": [
      "w\n",
      "H\n",
      "d\n",
      "l\n"
     ]
    }
   ],
   "source": [
    "print(fullName[6])\n",
    "print(fullName[0])#elemnt at the 0th index\n",
    "print(fullName[-1])#elemnt at the last index\n",
    "print(fullName[-2])\n"
   ]
  },
  {
   "cell_type": "code",
   "execution_count": 34,
   "id": "619765eb",
   "metadata": {},
   "outputs": [
    {
     "name": "stdout",
     "output_type": "stream",
     "text": [
      "ello\n",
      "Hello worl\n"
     ]
    }
   ],
   "source": [
    "#slicing\n",
    "print(fullName[1:5])#from index 1 to 5-1\n",
    "print(fullName[:-1])"
   ]
  },
  {
   "cell_type": "code",
   "execution_count": 37,
   "id": "81d1e9f2",
   "metadata": {},
   "outputs": [
    {
     "data": {
      "text/plain": [
       "11"
      ]
     },
     "execution_count": 37,
     "metadata": {},
     "output_type": "execute_result"
    }
   ],
   "source": [
    "len(fullName)#check number of elements in a string"
   ]
  },
  {
   "cell_type": "code",
   "execution_count": 44,
   "id": "8163fa80",
   "metadata": {},
   "outputs": [
    {
     "name": "stdout",
     "output_type": "stream",
     "text": [
      "['Hello', '.World', '.how.', 'are', '.you?']\n",
      "['Hello ', 'World ', 'how', ' are ', 'you?']\n"
     ]
    }
   ],
   "source": [
    "#to check number of words in a sentence\n",
    "#split function\n",
    "string=\"Hello .World .how. are .you?\"\n",
    "print(string.split())#splits on the basis of a space\n",
    "print(string.split(\".\"))#splits on the basis of a .(dot)"
   ]
  },
  {
   "cell_type": "markdown",
   "id": "8d005799",
   "metadata": {},
   "source": [
    "# Integers"
   ]
  },
  {
   "cell_type": "code",
   "execution_count": 45,
   "id": "61c1d6ba",
   "metadata": {},
   "outputs": [
    {
     "data": {
      "text/plain": [
       "int"
      ]
     },
     "execution_count": 45,
     "metadata": {},
     "output_type": "execute_result"
    }
   ],
   "source": [
    "type(123)"
   ]
  },
  {
   "cell_type": "code",
   "execution_count": 46,
   "id": "ccee0ae7",
   "metadata": {},
   "outputs": [
    {
     "data": {
      "text/plain": [
       "int"
      ]
     },
     "execution_count": 46,
     "metadata": {},
     "output_type": "execute_result"
    }
   ],
   "source": [
    "type(-3234)"
   ]
  },
  {
   "cell_type": "code",
   "execution_count": 48,
   "id": "6a01ef69",
   "metadata": {},
   "outputs": [
    {
     "name": "stdout",
     "output_type": "stream",
     "text": [
      "2x2= 4\n",
      "2 to the power 2= 4\n",
      "2 divide by 2= 1.0\n",
      "remainder of 2 div by 2= 0\n"
     ]
    }
   ],
   "source": [
    "print(\"2x2=\",2*2)\n",
    "print(\"2 to the power 2=\",2**2)\n",
    "print(\"2 divide by 2=\",2/2)\n",
    "print(\"remainder of 2 div by 2=\",2%2)"
   ]
  },
  {
   "cell_type": "code",
   "execution_count": 53,
   "id": "074dec9b",
   "metadata": {},
   "outputs": [
    {
     "name": "stdout",
     "output_type": "stream",
     "text": [
      "10\n",
      "0\n",
      "-9\n"
     ]
    }
   ],
   "source": [
    "a=10\n",
    "\n",
    "a+1\n",
    "print(a)\n",
    "\n",
    "a%=2\n",
    "print(a)\n",
    "\n",
    "a-=9\n",
    "print(a)"
   ]
  },
  {
   "cell_type": "markdown",
   "id": "94877af1",
   "metadata": {},
   "source": []
  },
  {
   "cell_type": "markdown",
   "id": "eb10bf51",
   "metadata": {},
   "source": [
    "# float"
   ]
  },
  {
   "cell_type": "code",
   "execution_count": 54,
   "id": "c65ee1a2",
   "metadata": {},
   "outputs": [
    {
     "data": {
      "text/plain": [
       "float"
      ]
     },
     "execution_count": 54,
     "metadata": {},
     "output_type": "execute_result"
    }
   ],
   "source": [
    "type(12.0)"
   ]
  },
  {
   "cell_type": "code",
   "execution_count": 56,
   "id": "ba6c0402",
   "metadata": {},
   "outputs": [
    {
     "data": {
      "text/plain": [
       "-3.142857142857143"
      ]
     },
     "execution_count": 56,
     "metadata": {},
     "output_type": "execute_result"
    }
   ],
   "source": [
    "-22/7.0"
   ]
  },
  {
   "cell_type": "code",
   "execution_count": 58,
   "id": "9d668d0a",
   "metadata": {},
   "outputs": [
    {
     "name": "stdout",
     "output_type": "stream",
     "text": [
      "1\n",
      "1.0\n"
     ]
    }
   ],
   "source": [
    "print(22%7)\n",
    "print(22%7.0)"
   ]
  },
  {
   "cell_type": "markdown",
   "id": "c17f1698",
   "metadata": {},
   "source": [
    "# boolean"
   ]
  },
  {
   "cell_type": "code",
   "execution_count": 59,
   "id": "1423e128",
   "metadata": {},
   "outputs": [
    {
     "data": {
      "text/plain": [
       "bool"
      ]
     },
     "execution_count": 59,
     "metadata": {},
     "output_type": "execute_result"
    }
   ],
   "source": [
    "type(True)#true is 1\n",
    "type(False)#false is 0"
   ]
  },
  {
   "cell_type": "code",
   "execution_count": 60,
   "id": "872c8410",
   "metadata": {},
   "outputs": [
    {
     "data": {
      "text/plain": [
       "False"
      ]
     },
     "execution_count": 60,
     "metadata": {},
     "output_type": "execute_result"
    }
   ],
   "source": [
    "a=10\n",
    "b=20\n",
    "a==b"
   ]
  },
  {
   "cell_type": "code",
   "execution_count": 61,
   "id": "80eb6ae0",
   "metadata": {},
   "outputs": [
    {
     "data": {
      "text/plain": [
       "True"
      ]
     },
     "execution_count": 61,
     "metadata": {},
     "output_type": "execute_result"
    }
   ],
   "source": [
    "1==1.00"
   ]
  },
  {
   "cell_type": "code",
   "execution_count": null,
   "id": "1a4dafc6",
   "metadata": {},
   "outputs": [],
   "source": []
  },
  {
   "cell_type": "code",
   "execution_count": null,
   "id": "1c0eec03",
   "metadata": {},
   "outputs": [],
   "source": []
  },
  {
   "cell_type": "markdown",
   "id": "8d02f722",
   "metadata": {},
   "source": [
    "# TYPE CASTING"
   ]
  },
  {
   "cell_type": "markdown",
   "id": "00e605e5",
   "metadata": {},
   "source": [
    "### string-->Int\n",
    "### string-->float\n",
    "### string-->boolean"
   ]
  },
  {
   "cell_type": "code",
   "execution_count": 8,
   "id": "68c6489d",
   "metadata": {},
   "outputs": [
    {
     "data": {
      "text/plain": [
       "int"
      ]
     },
     "execution_count": 8,
     "metadata": {},
     "output_type": "execute_result"
    }
   ],
   "source": [
    "var1=\"123\"\n",
    "var2=int(var1)\n",
    "type(var2)"
   ]
  },
  {
   "cell_type": "code",
   "execution_count": 9,
   "id": "23933442",
   "metadata": {},
   "outputs": [
    {
     "data": {
      "text/plain": [
       "float"
      ]
     },
     "execution_count": 9,
     "metadata": {},
     "output_type": "execute_result"
    }
   ],
   "source": [
    "var1=\"123.321\"\n",
    "var2=float(var1)\n",
    "type(var2)"
   ]
  },
  {
   "cell_type": "code",
   "execution_count": 10,
   "id": "f0543b73",
   "metadata": {},
   "outputs": [
    {
     "data": {
      "text/plain": [
       "bool"
      ]
     },
     "execution_count": 10,
     "metadata": {},
     "output_type": "execute_result"
    }
   ],
   "source": [
    "var1=\"false\"\n",
    "var2=bool(var1)\n",
    "type(var2)"
   ]
  },
  {
   "cell_type": "markdown",
   "id": "614b70f7",
   "metadata": {},
   "source": [
    "### int-->string\n",
    "### float-->string\n",
    "### boolean-->string"
   ]
  },
  {
   "cell_type": "code",
   "execution_count": 11,
   "id": "dda7e794",
   "metadata": {},
   "outputs": [
    {
     "data": {
      "text/plain": [
       "str"
      ]
     },
     "execution_count": 11,
     "metadata": {},
     "output_type": "execute_result"
    }
   ],
   "source": [
    "var1=123\n",
    "var2=str(var1)\n",
    "type(var2)"
   ]
  },
  {
   "cell_type": "code",
   "execution_count": 12,
   "id": "29a28d21",
   "metadata": {},
   "outputs": [
    {
     "data": {
      "text/plain": [
       "str"
      ]
     },
     "execution_count": 12,
     "metadata": {},
     "output_type": "execute_result"
    }
   ],
   "source": [
    "var1=123.321\n",
    "var2=str(var1)\n",
    "type(var2)"
   ]
  },
  {
   "cell_type": "code",
   "execution_count": 13,
   "id": "a3e69fe3",
   "metadata": {},
   "outputs": [
    {
     "data": {
      "text/plain": [
       "str"
      ]
     },
     "execution_count": 13,
     "metadata": {},
     "output_type": "execute_result"
    }
   ],
   "source": [
    "var1=True\n",
    "var2=str(var1)\n",
    "type(var2)"
   ]
  },
  {
   "cell_type": "code",
   "execution_count": 18,
   "id": "c0c46eff",
   "metadata": {},
   "outputs": [
    {
     "name": "stdout",
     "output_type": "stream",
     "text": [
      "1\n"
     ]
    },
    {
     "data": {
      "text/plain": [
       "str"
      ]
     },
     "execution_count": 18,
     "metadata": {},
     "output_type": "execute_result"
    }
   ],
   "source": [
    "var1=1\n",
    "var2=str(var1)\n",
    "print(var2)\n",
    "type(var2)"
   ]
  },
  {
   "cell_type": "markdown",
   "id": "964b9279",
   "metadata": {},
   "source": [
    "### float-->int"
   ]
  },
  {
   "cell_type": "code",
   "execution_count": 22,
   "id": "7fef9649",
   "metadata": {},
   "outputs": [
    {
     "name": "stdout",
     "output_type": "stream",
     "text": [
      "3.142857142857143 <class 'float'>\n",
      "3 <class 'int'>\n"
     ]
    }
   ],
   "source": [
    "var1=22/7\n",
    "print(var1,type(var1))\n",
    "var2=int(var1)\n",
    "print(var2,type(var2))"
   ]
  },
  {
   "cell_type": "code",
   "execution_count": null,
   "id": "c77ceecf",
   "metadata": {},
   "outputs": [],
   "source": []
  },
  {
   "cell_type": "markdown",
   "id": "d23d0bc6",
   "metadata": {},
   "source": [
    "# input"
   ]
  },
  {
   "cell_type": "code",
   "execution_count": 25,
   "id": "41323692",
   "metadata": {},
   "outputs": [
    {
     "name": "stdout",
     "output_type": "stream",
     "text": [
      "hwbeerg65\n",
      "Enter a number here--->54\n",
      "enter here--->efsd\n"
     ]
    }
   ],
   "source": [
    "a=input() #we can input anything here\n",
    "b=int(input(\"Enter a number here--->\"))\n",
    "c=input(\"enter here--->\")"
   ]
  },
  {
   "cell_type": "code",
   "execution_count": null,
   "id": "1612f469",
   "metadata": {},
   "outputs": [],
   "source": [
    "\n"
   ]
  },
  {
   "cell_type": "markdown",
   "id": "a59263e8",
   "metadata": {},
   "source": [
    "# operators"
   ]
  },
  {
   "cell_type": "markdown",
   "id": "d459adcc",
   "metadata": {},
   "source": [
    "### 1)Arithmetic operator"
   ]
  },
  {
   "cell_type": "code",
   "execution_count": 28,
   "id": "0646c448",
   "metadata": {},
   "outputs": [
    {
     "name": "stdout",
     "output_type": "stream",
     "text": [
      "33\n",
      "-7\n",
      "0.65\n",
      "0\n",
      "13\n",
      "260\n",
      "19004963774880799438801\n"
     ]
    }
   ],
   "source": [
    "a=13\n",
    "b=20\n",
    "print(a+b)\n",
    "print(a-b)\n",
    "print(a/b)\n",
    "print(a//b)\n",
    "print(a%b)\n",
    "print(a*b)\n",
    "print(a**b)"
   ]
  },
  {
   "cell_type": "markdown",
   "id": "60f2a95d",
   "metadata": {},
   "source": [
    "### 2)Assignment operator"
   ]
  },
  {
   "cell_type": "code",
   "execution_count": 29,
   "id": "dbe05433",
   "metadata": {},
   "outputs": [],
   "source": [
    "a=12"
   ]
  },
  {
   "cell_type": "code",
   "execution_count": 30,
   "id": "be73fd5c",
   "metadata": {},
   "outputs": [],
   "source": [
    "a=a+1\n",
    "a+=1"
   ]
  },
  {
   "cell_type": "markdown",
   "id": "1197d842",
   "metadata": {},
   "source": [
    "### 3)Comparision operator"
   ]
  },
  {
   "cell_type": "code",
   "execution_count": 31,
   "id": "713af79d",
   "metadata": {},
   "outputs": [],
   "source": [
    "a=10\n",
    "b=20\n",
    "c=10"
   ]
  },
  {
   "cell_type": "code",
   "execution_count": 35,
   "id": "3a7c5ac6",
   "metadata": {},
   "outputs": [
    {
     "name": "stdout",
     "output_type": "stream",
     "text": [
      "False\n",
      "True\n"
     ]
    }
   ],
   "source": [
    "#equality operator\n",
    "print(a==b)\n",
    "print(a==c)"
   ]
  },
  {
   "cell_type": "code",
   "execution_count": 37,
   "id": "1a24f53b",
   "metadata": {},
   "outputs": [
    {
     "name": "stdout",
     "output_type": "stream",
     "text": [
      "False\n",
      "True\n",
      "False\n",
      "True\n",
      "True\n"
     ]
    }
   ],
   "source": [
    "print(a>b)\n",
    "print(a<b)\n",
    "print(a!=c)\n",
    "print(a!=b)\n",
    "print(a<=b)\n"
   ]
  },
  {
   "cell_type": "code",
   "execution_count": 38,
   "id": "6cf24f41",
   "metadata": {},
   "outputs": [
    {
     "data": {
      "text/plain": [
       "False"
      ]
     },
     "execution_count": 38,
     "metadata": {},
     "output_type": "execute_result"
    }
   ],
   "source": [
    "132!=132.0"
   ]
  },
  {
   "cell_type": "code",
   "execution_count": null,
   "id": "c97be5d4",
   "metadata": {},
   "outputs": [],
   "source": []
  },
  {
   "cell_type": "code",
   "execution_count": null,
   "id": "bd1ee882",
   "metadata": {},
   "outputs": [],
   "source": []
  },
  {
   "cell_type": "markdown",
   "id": "5498fb9f",
   "metadata": {},
   "source": [
    "# CONDITIONS"
   ]
  },
  {
   "cell_type": "code",
   "execution_count": 40,
   "id": "a12d9f64",
   "metadata": {},
   "outputs": [
    {
     "name": "stdout",
     "output_type": "stream",
     "text": [
      "9\n",
      "18\n",
      "27\n",
      "36\n",
      "45\n",
      "54\n",
      "63\n",
      "72\n",
      "81\n",
      "90\n"
     ]
    }
   ],
   "source": [
    "for i in range(9,91,9):\n",
    "    print(i)"
   ]
  },
  {
   "cell_type": "code",
   "execution_count": 41,
   "id": "03fd01df",
   "metadata": {},
   "outputs": [
    {
     "name": "stdout",
     "output_type": "stream",
     "text": [
      "9\n",
      "18\n",
      "27\n",
      "36\n",
      "45\n",
      "54\n",
      "63\n",
      "72\n",
      "81\n"
     ]
    }
   ],
   "source": [
    "for i in range(9,90,9):\n",
    "    print(i)"
   ]
  },
  {
   "cell_type": "code",
   "execution_count": 43,
   "id": "48fe31e1",
   "metadata": {},
   "outputs": [
    {
     "name": "stdout",
     "output_type": "stream",
     "text": [
      "enter your age-->51\n",
      "You can vote!\n"
     ]
    }
   ],
   "source": [
    "age=int(input(\"enter your age-->\"))\n",
    "if (age < 0):\n",
    "    print('Please enter a valid age!')\n",
    "\n",
    "elif (age >= 18 or age <= 120):\n",
    "    print('You can vote!')  \n",
    "    \n",
    "else:\n",
    "    print('You can not vote!')"
   ]
  },
  {
   "cell_type": "code",
   "execution_count": 45,
   "id": "659e33c6",
   "metadata": {},
   "outputs": [
    {
     "name": "stdout",
     "output_type": "stream",
     "text": [
      "Enjoy your drinks\n",
      "Enjoy your Coffee\n",
      "Enjoy your Burger\n",
      "**********************\n",
      "You've ordered 3 items!\n",
      "**********************\n"
     ]
    }
   ],
   "source": [
    "drinks = True\n",
    "maggie = False\n",
    "coffee = True\n",
    "water  = False\n",
    "burger = True\n",
    "orders=0\n",
    "if (drinks == True):\n",
    "    print('Enjoy your drinks')\n",
    "    orders += 1\n",
    "\n",
    "if (maggie == True):\n",
    "    print('Enjoy your Maggie')\n",
    "    orders += 1\n",
    "    \n",
    "if (coffee == True):\n",
    "    print('Enjoy your Coffee')\n",
    "    orders += 1\n",
    "    \n",
    "if (water == True):\n",
    "    print('Enjoy your water')\n",
    "    orders += 1\n",
    "    \n",
    "if (burger == True):\n",
    "    print('Enjoy your Burger')\n",
    "    orders += 1\n",
    "    \n",
    "print(\"**********************\")\n",
    "print(\"You've ordered\",orders,\"items!\")\n",
    "print(\"**********************\")"
   ]
  },
  {
   "cell_type": "markdown",
   "id": "4b417b42",
   "metadata": {},
   "source": [
    "# while loop"
   ]
  },
  {
   "cell_type": "code",
   "execution_count": 3,
   "id": "b589368e",
   "metadata": {},
   "outputs": [
    {
     "name": "stdout",
     "output_type": "stream",
     "text": [
      "enter number-->20\n",
      "20\n",
      "19\n",
      "18\n",
      "17\n",
      "16\n",
      "15\n",
      "14\n",
      "13\n",
      "12\n",
      "11\n",
      "10\n",
      "9\n",
      "8\n",
      "7\n",
      "6\n",
      "5\n",
      "4\n",
      "3\n",
      "2\n",
      "1\n"
     ]
    }
   ],
   "source": [
    "num=int(input(\"enter number-->\"))\n",
    "while(num!=0):\n",
    "    print(num)\n",
    "    num-=1"
   ]
  },
  {
   "cell_type": "code",
   "execution_count": 24,
   "id": "cc6b8804",
   "metadata": {},
   "outputs": [
    {
     "name": "stdout",
     "output_type": "stream",
     "text": [
      "enter--->12\n",
      "1100 is the binary of 12\n"
     ]
    }
   ],
   "source": [
    "#code to convvert into binary format\n",
    "num =int(input(\"enter--->\"))\n",
    "temp=num\n",
    "binary = ''\n",
    "\n",
    "while (num != 0):\n",
    "    \n",
    "    if (num % 2 == 0):\n",
    "        binary += '1'\n",
    "    else:\n",
    "        binary += '0'\n",
    "    num = num // 2\n",
    "    \n",
    "print(binary,\"is the binary of\",temp)"
   ]
  },
  {
   "cell_type": "markdown",
   "id": "99e17a5b",
   "metadata": {},
   "source": [
    "# LIST"
   ]
  },
  {
   "cell_type": "code",
   "execution_count": 13,
   "id": "18dc0bfb",
   "metadata": {},
   "outputs": [
    {
     "name": "stdout",
     "output_type": "stream",
     "text": [
      "enter number of students-->5\n",
      "enter name of the student--->A\n",
      "enter marks in physics--->54\n",
      "enter marks in chemistry--->45\n",
      "enter marks in mathematics--->45\n",
      "enter name of the student--->B\n",
      "enter marks in physics--->84\n",
      "enter marks in chemistry--->45\n",
      "enter marks in mathematics--->55\n",
      "enter name of the student--->C\n",
      "enter marks in physics--->94\n",
      "enter marks in chemistry--->64\n",
      "enter marks in mathematics--->54\n",
      "enter name of the student--->D\n",
      "enter marks in physics--->54\n",
      "enter marks in chemistry--->55\n",
      "enter marks in mathematics--->65\n",
      "enter name of the student--->E\n",
      "enter marks in physics--->65\n",
      "enter marks in chemistry--->31\n",
      "enter marks in mathematics--->64\n",
      "['A', 'B', 'C', 'D', 'E']\n",
      "['54', '84', '94', '54', '65']\n",
      "['45', '45', '64', '55', '31']\n",
      "['45', '55', '54', '65', '64']\n",
      "[['A', 'B', 'C', 'D', 'E'], ['54', '84', '94', '54', '65'], ['45', '45', '64', '55', '31'], ['45', '55', '54', '65', '64']]\n"
     ]
    }
   ],
   "source": [
    "name=[]\n",
    "phy=[]\n",
    "chem=[]\n",
    "math=[]\n",
    "students=int(input(\"enter number of students-->\"))\n",
    "for i in range(students):\n",
    "    name.append(input(\"enter name of the student--->\"))\n",
    "    phy.append(input(\"enter marks in physics--->\"))\n",
    "    chem.append(input(\"enter marks in chemistry--->\"))\n",
    "    math.append(input(\"enter marks in mathematics--->\"))\n",
    "    \n",
    "print(name)\n",
    "print(phy)\n",
    "print(chem)\n",
    "print(math)\n",
    "    \n",
    "data=[name,phy,chem,math]\n",
    "print(data)"
   ]
  },
  {
   "cell_type": "code",
   "execution_count": null,
   "id": "7ff55c81",
   "metadata": {},
   "outputs": [],
   "source": []
  }
 ],
 "metadata": {
  "kernelspec": {
   "display_name": "Python 3",
   "language": "python",
   "name": "python3"
  },
  "language_info": {
   "codemirror_mode": {
    "name": "ipython",
    "version": 3
   },
   "file_extension": ".py",
   "mimetype": "text/x-python",
   "name": "python",
   "nbconvert_exporter": "python",
   "pygments_lexer": "ipython3",
   "version": "3.8.8"
  }
 },
 "nbformat": 4,
 "nbformat_minor": 5
}
