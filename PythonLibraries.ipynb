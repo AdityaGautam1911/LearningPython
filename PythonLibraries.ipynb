{
 "cells": [
  {
   "cell_type": "markdown",
   "id": "dd3cc7a1",
   "metadata": {},
   "source": [
    "# Libraries"
   ]
  },
  {
   "cell_type": "code",
   "execution_count": 3,
   "id": "ca048e55",
   "metadata": {},
   "outputs": [
    {
     "name": "stdout",
     "output_type": "stream",
     "text": [
      "22\n",
      "84\n",
      "2\n"
     ]
    }
   ],
   "source": [
    "lst=[11,22,3,4,6,7,4,5,6,4,7,5]\n",
    "print(max(lst))#shows the greatest in the list\n",
    "\n",
    "print(sum(lst))#sum of all elements in a list\n",
    "\n",
    "print(lst.count(7))#tells the no. of occurence of 7"
   ]
  },
  {
   "cell_type": "code",
   "execution_count": 4,
   "id": "ba76eb90",
   "metadata": {},
   "outputs": [],
   "source": [
    "#to install if not available---> !pip install os\n",
    "#to install if not available---> !pip install numpy\n",
    "#to install if not available---> !pip install pandas\n",
    "import os\n",
    "import numpy\n",
    "import pandas"
   ]
  },
  {
   "cell_type": "code",
   "execution_count": 5,
   "id": "1f324baf",
   "metadata": {},
   "outputs": [
    {
     "name": "stdout",
     "output_type": "stream",
     "text": [
      "Requirement already satisfied: pandas in c:\\users\\abc\\anaconda3\\lib\\site-packages (1.2.4)\n",
      "Requirement already satisfied: numpy>=1.16.5 in c:\\users\\abc\\anaconda3\\lib\\site-packages (from pandas) (1.20.1)\n",
      "Requirement already satisfied: python-dateutil>=2.7.3 in c:\\users\\abc\\anaconda3\\lib\\site-packages (from pandas) (2.8.1)\n",
      "Requirement already satisfied: pytz>=2017.3 in c:\\users\\abc\\anaconda3\\lib\\site-packages (from pandas) (2021.1)\n",
      "Requirement already satisfied: six>=1.5 in c:\\users\\abc\\anaconda3\\lib\\site-packages (from python-dateutil>=2.7.3->pandas) (1.15.0)\n"
     ]
    }
   ],
   "source": [
    "!pip install pandas"
   ]
  },
  {
   "cell_type": "code",
   "execution_count": 18,
   "id": "b727b03e",
   "metadata": {
    "scrolled": false
   },
   "outputs": [
    {
     "name": "stdout",
     "output_type": "stream",
     "text": [
      ".classpath\n",
      ".project\n",
      ".settings\n",
      "bin\n",
      "src\n"
     ]
    }
   ],
   "source": [
    "'''The OS module in Python provides functions for creating and removing a directory (folder),\n",
    "fetching its contents, changing and identifying the current directory, etc.'''\n",
    "\n",
    "import os\n",
    "dir(os)#tells all the functions of os library\n",
    "\n",
    "dirs=os.listdir('Desktop\\DataStructures')#tells the filespresent at the specified path\n",
    "for i in dirs:\n",
    "    print(i)"
   ]
  },
  {
   "cell_type": "code",
   "execution_count": 31,
   "id": "7a6bb55d",
   "metadata": {},
   "outputs": [
    {
     "name": "stdout",
     "output_type": "stream",
     "text": [
      "PythonBasics.ipynb\n",
      "PythonLibraries.ipynb\n"
     ]
    }
   ],
   "source": [
    "#to print only the Jupyter notebook files(.ipynb)\n",
    "dirs=os.listdir('/Users/Abc')\n",
    "for i in dirs:\n",
    "    if(i[-5:]==\"ipynb\"):\n",
    "        print(i)\n",
    "    else:\n",
    "        pass"
   ]
  },
  {
   "cell_type": "code",
   "execution_count": 2,
   "id": "30711868",
   "metadata": {},
   "outputs": [],
   "source": [
    "#to copy the file to another location\n",
    "#!cp src_location dest_location(to copy the file)   \n",
    "#!mv src_location dest_location(to move the file)"
   ]
  },
  {
   "cell_type": "code",
   "execution_count": null,
   "id": "1272a804",
   "metadata": {},
   "outputs": [],
   "source": []
  }
 ],
 "metadata": {
  "kernelspec": {
   "display_name": "Python 3",
   "language": "python",
   "name": "python3"
  },
  "language_info": {
   "codemirror_mode": {
    "name": "ipython",
    "version": 3
   },
   "file_extension": ".py",
   "mimetype": "text/x-python",
   "name": "python",
   "nbconvert_exporter": "python",
   "pygments_lexer": "ipython3",
   "version": "3.8.8"
  }
 },
 "nbformat": 4,
 "nbformat_minor": 5
}
